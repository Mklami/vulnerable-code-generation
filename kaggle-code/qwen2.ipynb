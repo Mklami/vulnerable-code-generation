{
 "cells": [
  {
   "metadata": {},
   "cell_type": "code",
   "outputs": [],
   "execution_count": null,
   "source": [
    "# Install required libraries (run this once)\n",
    "!pip install -q transformers accelerate einops bitsandbytes --break-system-packages --no-deps"
   ],
   "id": "4c96a7c5d1b2f493"
  },
  {
   "cell_type": "code",
   "execution_count": null,
   "id": "initial_id",
   "metadata": {
    "collapsed": true
   },
   "outputs": [],
   "source": [
    "# Load prompts\n",
    "import json\n",
    "\n",
    "prompt_path = \"/kaggle/input/new-prompts/dynamic_prompts.json\"\n",
    "with open(prompt_path) as f:\n",
    "    prompts = json.load(f)"
   ]
  },
  {
   "metadata": {},
   "cell_type": "code",
   "outputs": [],
   "execution_count": null,
   "source": [
    "# Format prompt\n",
    "def format_prompt(prompt):\n",
    "    return (\n",
    "        \"<|im_start|>system\\n\"\n",
    "        \"You are a code generation engine that outputs ONLY fully compilable C programs inside triple backticks (```c ... ```).\\n\"\n",
    "        \"DO NOT include any explanations, examples, extra text, or comments.\\n\"\n",
    "        \"The entire output must be a single valid C file, concise and under 150 lines.\\n\"\n",
    "        \"<|im_end|>\\n\"\n",
    "        \"<|im_start|>user\\n\"\n",
    "        f\"{prompt.strip()}\\n\"\n",
    "        \"<|im_end|>\\n\"\n",
    "        \"<|im_start|>assistant\\n\"\n",
    "    )"
   ],
   "id": "acd33619f03c03e8"
  },
  {
   "metadata": {},
   "cell_type": "code",
   "outputs": [],
   "execution_count": null,
   "source": [
    "# Inference function\n",
    "def generate_batch(prompts_batch, max_new_tokens=512):\n",
    "    inputs = tokenizer(\n",
    "        prompts_batch,\n",
    "        return_tensors=\"pt\",\n",
    "        padding=True,\n",
    "        truncation=True,\n",
    "        max_length=1024\n",
    "    ).to(\"cuda\")\n",
    "    with torch.no_grad():\n",
    "        output_ids = model.generate(\n",
    "            inputs.input_ids,\n",
    "            attention_mask=inputs.attention_mask,\n",
    "            max_new_tokens=max_new_tokens,\n",
    "            do_sample=False,\n",
    "            #temperature=0.3,\n",
    "            pad_token_id=tokenizer.eos_token_id,\n",
    "            use_cache=True\n",
    "        )\n",
    "    gen_ids = output_ids[:, inputs.input_ids.shape[1]:]\n",
    "    return tokenizer.batch_decode(gen_ids, skip_special_tokens=True)"
   ],
   "id": "2db56672b886a981"
  },
  {
   "metadata": {},
   "cell_type": "code",
   "outputs": [],
   "execution_count": null,
   "source": [
    "# Model & tokenizer setup\n",
    "from transformers import AutoTokenizer, AutoModelForCausalLM, BitsAndBytesConfig\n",
    "import torch\n",
    "\n",
    "model_id = \"Qwen/Qwen2.5-Coder-7B-Instruct\"\n",
    "\n",
    "quant_config = BitsAndBytesConfig(\n",
    "    load_in_4bit=True,\n",
    "    bnb_4bit_use_double_quant=True,\n",
    "    bnb_4bit_quant_type=\"nf4\",\n",
    "    bnb_4bit_compute_dtype=torch.float16\n",
    ")\n",
    "\n",
    "tokenizer = AutoTokenizer.from_pretrained(model_id, trust_remote_code=True)\n",
    "model = AutoModelForCausalLM.from_pretrained(\n",
    "    model_id,\n",
    "    quantization_config=quant_config,\n",
    "    device_map=\"auto\",\n",
    "    trust_remote_code=True\n",
    ")\n",
    "model.eval()\n",
    "\n",
    "# Optional PyTorch 2.0 compile\n",
    "try:\n",
    "    model = torch.compile(model)\n",
    "except Exception:\n",
    "    pass"
   ],
   "id": "8b99fbc2ca93791d"
  },
  {
   "metadata": {},
   "cell_type": "code",
   "outputs": [],
   "execution_count": null,
   "source": [
    "from tqdm import tqdm\n",
    "import os\n",
    "import json\n",
    "\n",
    "# Main loop\n",
    "BATCH_SIZE = 8\n",
    "results = []\n",
    "model_label = \"Qwen2.5-Coder-7B-Instruct\"\n",
    "\n",
    "for i in tqdm(range(0, len(prompts), BATCH_SIZE)):\n",
    "    batch_objs = prompts[i : i + BATCH_SIZE]\n",
    "    formatted = [format_prompt(obj[\"prompt\"]) for obj in batch_objs]\n",
    "    outputs = generate_batch(formatted)\n",
    "\n",
    "    for obj, out in zip(batch_objs, outputs):\n",
    "        entry = obj.copy()\n",
    "        entry.update({\n",
    "            \"model\": model_label,\n",
    "            \"input\": formatted.pop(0),\n",
    "            \"output\": out\n",
    "        })\n",
    "        results.append(entry)\n",
    "\n",
    "# Save results\n",
    "os.makedirs(\"results\", exist_ok=True)\n",
    "with open(\"results/qwen2_results.json\", \"w\") as f:\n",
    "    json.dump(results, f, indent=2)\n",
    "\n",
    "print(f\"Saved {len(results)} results to results/qwen2_results.json\")"
   ],
   "id": "f435e11f8a8b563a"
  }
 ],
 "metadata": {
  "kernelspec": {
   "display_name": "Python 3",
   "language": "python",
   "name": "python3"
  },
  "language_info": {
   "codemirror_mode": {
    "name": "ipython",
    "version": 2
   },
   "file_extension": ".py",
   "mimetype": "text/x-python",
   "name": "python",
   "nbconvert_exporter": "python",
   "pygments_lexer": "ipython2",
   "version": "2.7.6"
  }
 },
 "nbformat": 4,
 "nbformat_minor": 5
}
