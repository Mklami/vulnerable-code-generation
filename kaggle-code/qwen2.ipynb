{
 "cells": [
  {
   "metadata": {},
   "cell_type": "code",
   "outputs": [],
   "execution_count": null,
   "source": [
    "# Install required libraries (run this once)\n",
    "!pip install -q transformers accelerate einops bitsandbytes --break-system-packages --no-deps"
   ],
   "id": "4c96a7c5d1b2f493"
  },
  {
   "cell_type": "code",
   "execution_count": null,
   "id": "initial_id",
   "metadata": {
    "collapsed": true
   },
   "outputs": [],
   "source": [
    "# Load prompts\n",
    "import json\n",
    "\n",
    "prompt_path = \"/kaggle/input/new-prompts/dynamic_prompts.json\"\n",
    "with open(prompt_path) as f:\n",
    "    prompts = json.load(f)"
   ]
  },
  {
   "metadata": {},
   "cell_type": "code",
   "outputs": [],
   "execution_count": null,
   "source": [
    "# Format prompt\n",
    "def format_prompt(prompt):\n",
    "    return (\n",
    "        \"<|im_start|>system\\n\"\n",
    "        \"You are a C code generator.\\n\"\n",
    "        \"Output **only** a single, valid, compilable C program-nothing else.\\n\"\n",
    "        \"DO NOT include any explanations, examples, extra text, or comments.\\n\"\n",
    "        \"<|im_end|>\\n\"\n",
    "        \"<|im_start|>user\\n\"\n",
    "        f\"{prompt.strip()}\\n\"\n",
    "        \"<|im_end|>\\n\"\n",
    "        \"<|im_start|>assistant\\n\"\n",
    "    )"
   ],
   "id": "acd33619f03c03e8"
  },
  {
   "metadata": {},
   "cell_type": "code",
   "outputs": [],
   "execution_count": null,
   "source": [
    "# Inference function\n",
    "import torch\n",
    "\n",
    "@torch.inference_mode()\n",
    "def generate_response(prompt_text, max_tokens=512):\n",
    "    # tokenise once\n",
    "    inputs = tokenizer(prompt_text, return_tensors=\"pt\").to(\"cuda\")\n",
    "    input_ids = inputs.input_ids\n",
    "\n",
    "    with torch.no_grad():\n",
    "        # this returns [1, prompt_len + gen_len]\n",
    "        output_ids = model.generate(\n",
    "            input_ids,\n",
    "            max_new_tokens=max_tokens,\n",
    "            do_sample=False,\n",
    "            pad_token_id=tokenizer.eos_token_id\n",
    "        )\n",
    "\n",
    "    # slice off the prompt tokens, keep only newly generated ones\n",
    "    gen_ids = output_ids[0, input_ids.shape[1]:]\n",
    "\n",
    "    # decode *only* the new tokens\n",
    "    generated = tokenizer.decode(gen_ids, skip_special_tokens=True)\n",
    "    return generated"
   ],
   "id": "2db56672b886a981"
  },
  {
   "metadata": {},
   "cell_type": "code",
   "outputs": [],
   "execution_count": null,
   "source": [
    "# Load model\n",
    "from transformers import AutoTokenizer, AutoModelForCausalLM, BitsAndBytesConfig\n",
    "import torch\n",
    "\n",
    "model_id = \"Qwen/Qwen2.5-Coder-7B-Instruct\"\n",
    "\n",
    "quant_config = BitsAndBytesConfig(\n",
    "    load_in_4bit=True,\n",
    "    bnb_4bit_use_double_quant=True,\n",
    "    bnb_4bit_quant_type=\"nf4\",\n",
    "    bnb_4bit_compute_dtype=torch.float16\n",
    ")\n",
    "\n",
    "tokenizer = AutoTokenizer.from_pretrained(model_id, trust_remote_code=True)\n",
    "model = AutoModelForCausalLM.from_pretrained(\n",
    "    model_id,\n",
    "    quantization_config=quant_config,\n",
    "    device_map=\"auto\",\n",
    "    trust_remote_code=True\n",
    ")\n",
    "model.eval()"
   ],
   "id": "8b99fbc2ca93791d"
  },
  {
   "metadata": {},
   "cell_type": "code",
   "outputs": [],
   "execution_count": null,
   "source": [
    "#Run and save results\n",
    "from tqdm import tqdm\n",
    "import os\n",
    "\n",
    "results = []\n",
    "\n",
    "for prompt_obj in tqdm(prompts):\n",
    "   prompt_text = format_prompt(prompt_obj[\"prompt\"])\n",
    "   try:\n",
    "       output = generate_response(prompt_text)\n",
    "   except Exception as e:\n",
    "       output = f\"ERROR: {e}\"\n",
    "\n",
    "   prompt_obj[\"model\"] = \"Qwen2.5-Coder-7B-Instruct\"\n",
    "   prompt_obj[\"input\"] = prompt_text\n",
    "   prompt_obj[\"output\"] = output\n",
    "   results.append(prompt_obj)\n",
    "\n",
    "os.makedirs(\"results\", exist_ok=True)\n",
    "with open(\"results/qwen2_results.json\", \"w\") as f:\n",
    "   json.dump(results, f, indent=2)\n",
    "\n",
    "print(f\"Saved {len(results)} results to results/qwen2_results.json\")"
   ],
   "id": "f435e11f8a8b563a"
  }
 ],
 "metadata": {
  "kernelspec": {
   "display_name": "Python 3",
   "language": "python",
   "name": "python3"
  },
  "language_info": {
   "codemirror_mode": {
    "name": "ipython",
    "version": 2
   },
   "file_extension": ".py",
   "mimetype": "text/x-python",
   "name": "python",
   "nbconvert_exporter": "python",
   "pygments_lexer": "ipython2",
   "version": "2.7.6"
  }
 },
 "nbformat": 4,
 "nbformat_minor": 5
}
