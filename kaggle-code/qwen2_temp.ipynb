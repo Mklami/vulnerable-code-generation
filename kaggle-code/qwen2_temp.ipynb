{
 "cells": [
  {
   "cell_type": "code",
   "execution_count": null,
   "id": "initial_id",
   "metadata": {
    "collapsed": true
   },
   "outputs": [],
   "source": [
    "# Install libraries \n",
    "!pip install -q transformers accelerate einops bitsandbytes --break-system-packages --no-deps"
   ]
  },
  {
   "metadata": {},
   "cell_type": "code",
   "outputs": [],
   "execution_count": null,
   "source": [
    "# Load prompts\n",
    "import json\n",
    "\n",
    "prompt_path = \"/kaggle/input/new-prompts/dynamic_prompts_temp_sample.json\"\n",
    "with open(prompt_path) as f:\n",
    "    prompts = json.load(f)"
   ],
   "id": "c9aa502c3d8c2692"
  },
  {
   "metadata": {},
   "cell_type": "code",
   "outputs": [],
   "execution_count": null,
   "source": [
    "# Format prompt\n",
    "def format_prompt(prompt):\n",
    "    return (\n",
    "        \"<|im_start|>system\\n\"\n",
    "        \"You are a C code generator.\\n\"\n",
    "        \"Output **only** a single, valid, compilable C program-nothing else.\\n\"\n",
    "        \"DO NOT include any explanations, examples, extra text, or comments.\\n\"\n",
    "        \"<|im_end|>\\n\"\n",
    "        \"<|im_start|>user\\n\"\n",
    "        f\"{prompt.strip()}\\n\"\n",
    "        \"<|im_end|>\\n\"\n",
    "        \"<|im_start|>assistant\\n\"\n",
    "    )"
   ],
   "id": "7c12f6169172f057"
  },
  {
   "metadata": {},
   "cell_type": "code",
   "outputs": [],
   "execution_count": null,
   "source": [
    "# Inference function (temperature-controlled)\n",
    "import torch\n",
    "\n",
    "@torch.inference_mode()\n",
    "def generate_response(prompt_text, max_tokens=512, temperature=0.7):\n",
    "    inputs = tokenizer(prompt_text, return_tensors=\"pt\").to(\"cuda\")\n",
    "    input_ids = inputs.input_ids\n",
    "\n",
    "    with torch.no_grad():\n",
    "        output_ids = model.generate(\n",
    "            input_ids,\n",
    "            max_new_tokens=max_tokens,\n",
    "            do_sample=True,\n",
    "            temperature=temperature,\n",
    "            top_p=0.95,\n",
    "            pad_token_id=tokenizer.eos_token_id\n",
    "        )\n",
    "\n",
    "    gen_ids = output_ids[0, input_ids.shape[1]:]\n",
    "    return tokenizer.decode(gen_ids, skip_special_tokens=True)\n"
   ],
   "id": "f466c3d20b971cd5"
  },
  {
   "metadata": {},
   "cell_type": "code",
   "outputs": [],
   "execution_count": null,
   "source": [
    "# Load model\n",
    "from transformers import AutoTokenizer, AutoModelForCausalLM, BitsAndBytesConfig\n",
    "import torch\n",
    "\n",
    "model_id = \"Qwen/Qwen2.5-Coder-7B-Instruct\"\n",
    "\n",
    "quant_config = BitsAndBytesConfig(\n",
    "    load_in_4bit=True,\n",
    "    bnb_4bit_use_double_quant=True,\n",
    "    bnb_4bit_quant_type=\"nf4\",\n",
    "    bnb_4bit_compute_dtype=torch.float16\n",
    ")\n",
    "\n",
    "tokenizer = AutoTokenizer.from_pretrained(model_id, trust_remote_code=True)\n",
    "model = AutoModelForCausalLM.from_pretrained(\n",
    "    model_id,\n",
    "    quantization_config=quant_config,\n",
    "    device_map=\"auto\",\n",
    "    trust_remote_code=True\n",
    ")\n",
    "model.eval()\n"
   ],
   "id": "7cd8a07fa4682bcc"
  },
  {
   "metadata": {},
   "cell_type": "code",
   "outputs": [],
   "execution_count": null,
   "source": [
    "# Run inference at different temperatures and save results\n",
    "from tqdm import tqdm\n",
    "import os\n",
    "\n",
    "temperatures = [0.2, 0.5, 0.8, 1.0]\n",
    "all_results = []\n",
    "\n",
    "for temp in temperatures:\n",
    "    temp_results = []\n",
    "\n",
    "    print(f\"\\n⚙️ Running temperature {temp}...\")\n",
    "    for prompt_obj in tqdm(prompts):\n",
    "        prompt_text = format_prompt(prompt_obj[\"prompt\"])\n",
    "        try:\n",
    "            output = generate_response(prompt_text, temperature=temp)\n",
    "        except Exception as e:\n",
    "            output = f\"ERROR: {e}\"\n",
    "\n",
    "        result = {\n",
    "            **prompt_obj,\n",
    "            \"model\": \"Qwen2.5-Coder-7B-Instruct\",\n",
    "            \"temperature\": temp,\n",
    "            \"input\": prompt_text,\n",
    "            \"output\": output\n",
    "        }\n",
    "        temp_results.append(result)\n",
    "\n",
    "    all_results.extend(temp_results)\n",
    "\n",
    "# Save all generations\n",
    "os.makedirs(\"results\", exist_ok=True)\n",
    "with open(\"results/qwen2_temp_results.json\", \"w\") as f:\n",
    "    json.dump(all_results, f, indent=2)\n",
    "\n",
    "print(f\"\\n✅ Saved {len(all_results)} generations to results/qwen2_temp_results.json\")\n"
   ],
   "id": "f6fb5b9444fa067f"
  }
 ],
 "metadata": {
  "kernelspec": {
   "display_name": "Python 3",
   "language": "python",
   "name": "python3"
  },
  "language_info": {
   "codemirror_mode": {
    "name": "ipython",
    "version": 2
   },
   "file_extension": ".py",
   "mimetype": "text/x-python",
   "name": "python",
   "nbconvert_exporter": "python",
   "pygments_lexer": "ipython2",
   "version": "2.7.6"
  }
 },
 "nbformat": 4,
 "nbformat_minor": 5
}
